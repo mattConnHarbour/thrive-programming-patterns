{
 "cells": [
  {
   "cell_type": "markdown",
   "id": "6bc57951",
   "metadata": {},
   "source": [
    "# Factory Method\n",
    "\n",
    "Using a base class, create sub-classes and control their behavior via inheritance.\n",
    "\n",
    "An interface can then be used to infer multiple inheritance."
   ]
  },
  {
   "cell_type": "code",
   "execution_count": 18,
   "id": "c93dc0b7",
   "metadata": {},
   "outputs": [
    {
     "data": {
      "text/plain": [
       "(True, True)"
      ]
     },
     "execution_count": 18,
     "metadata": {},
     "output_type": "execute_result"
    }
   ],
   "source": [
    "from abc import abstractmethod\n",
    "\n",
    "class interface:\n",
    "    def method():\n",
    "        pass\n",
    "    \n",
    "# good class - matches and sets methods defined in interface\n",
    "class good_class(interface):\n",
    "    def method():\n",
    "        print('method')\n",
    "        \n",
    "# bad class - missing interface methods\n",
    "class bad_class(interface):\n",
    "    pass\n",
    "        \n",
    "x = good_class()\n",
    "y = bad_class() # ideally this would throw type error\n",
    "\n",
    "isinstance(x, interface), isinstance(y, interface)\n",
    "\n"
   ]
  },
  {
   "cell_type": "code",
   "execution_count": null,
   "id": "eb3ed3b9",
   "metadata": {},
   "outputs": [],
   "source": []
  }
 ],
 "metadata": {
  "kernelspec": {
   "display_name": "Python 3 (ipykernel)",
   "language": "python",
   "name": "python3"
  },
  "language_info": {
   "codemirror_mode": {
    "name": "ipython",
    "version": 3
   },
   "file_extension": ".py",
   "mimetype": "text/x-python",
   "name": "python",
   "nbconvert_exporter": "python",
   "pygments_lexer": "ipython3",
   "version": "3.9.7"
  }
 },
 "nbformat": 4,
 "nbformat_minor": 5
}
